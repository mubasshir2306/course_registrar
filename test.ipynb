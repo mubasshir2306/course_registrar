{
 "cells": [
  {
   "cell_type": "code",
   "execution_count": 1,
   "metadata": {
    "collapsed": true,
    "ExecuteTime": {
     "end_time": "2023-07-16T08:52:22.301920Z",
     "start_time": "2023-07-16T08:52:22.271529Z"
    }
   },
   "outputs": [
    {
     "name": "stdout",
     "output_type": "stream",
     "text": [
      "Hello\n"
     ]
    }
   ],
   "source": [
    "print(\"Hello\")"
   ]
  },
  {
   "cell_type": "code",
   "execution_count": 3,
   "outputs": [
    {
     "name": "stdout",
     "output_type": "stream",
     "text": [
      "my\n",
      "name\n",
      "is\n",
      "mubas\n"
     ]
    }
   ],
   "source": [
    "str = [\"my\",\"name\",\"is\",\"mubas\"]\n",
    "for word in str:\n",
    "    print(word)"
   ],
   "metadata": {
    "collapsed": false,
    "ExecuteTime": {
     "end_time": "2023-07-16T08:53:46.031578Z",
     "start_time": "2023-07-16T08:53:46.026508Z"
    }
   }
  },
  {
   "cell_type": "code",
   "execution_count": 9,
   "outputs": [
    {
     "name": "stdout",
     "output_type": "stream",
     "text": [
      "['what', 'are', 'you', 'doing', 'in', 'my', 'backyard']\n"
     ]
    }
   ],
   "source": [
    "def str_to_arr(string: str):\n",
    "    arr = []\n",
    "    length = len(string)\n",
    "    word = ''\n",
    "    for i in range(length):\n",
    "        if string[i] != ',':\n",
    "            word += string[i]\n",
    "        else:\n",
    "            arr.append(word)\n",
    "            word = ''\n",
    "    arr.append(word)\n",
    "    return arr"
   ],
   "metadata": {
    "collapsed": false,
    "ExecuteTime": {
     "end_time": "2023-07-16T09:06:24.211399Z",
     "start_time": "2023-07-16T09:06:24.207871Z"
    }
   }
  },
  {
   "cell_type": "code",
   "execution_count": 13,
   "outputs": [
    {
     "name": "stdout",
     "output_type": "stream",
     "text": [
      "you\n",
      "cannot\n",
      "pass\n",
      "array\n",
      "as\n",
      "a\n",
      "datatype\n",
      "in\n",
      "sql\n"
     ]
    }
   ],
   "source": [
    "string = \"you,cannot,pass,array,as,a,datatype,in,sql\"\n",
    "arr = str_to_arr(string)\n",
    "for word in arr:\n",
    "    print(word)"
   ],
   "metadata": {
    "collapsed": false,
    "ExecuteTime": {
     "end_time": "2023-07-16T09:07:21.297579Z",
     "start_time": "2023-07-16T09:07:21.293594Z"
    }
   }
  },
  {
   "cell_type": "code",
   "execution_count": null,
   "outputs": [],
   "source": [],
   "metadata": {
    "collapsed": false
   }
  }
 ],
 "metadata": {
  "kernelspec": {
   "display_name": "Python 3",
   "language": "python",
   "name": "python3"
  },
  "language_info": {
   "codemirror_mode": {
    "name": "ipython",
    "version": 2
   },
   "file_extension": ".py",
   "mimetype": "text/x-python",
   "name": "python",
   "nbconvert_exporter": "python",
   "pygments_lexer": "ipython2",
   "version": "2.7.6"
  }
 },
 "nbformat": 4,
 "nbformat_minor": 0
}
